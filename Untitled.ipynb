{
 "cells": [
  {
   "cell_type": "code",
   "execution_count": 1,
   "id": "bcbbd614",
   "metadata": {},
   "outputs": [
    {
     "name": "stdout",
     "output_type": "stream",
     "text": [
      "HTML file created: index.html\n"
     ]
    }
   ],
   "source": [
    "html_content = \"\"\"\n",
    "<!DOCTYPE html>\n",
    "<html lang=\"en\">\n",
    "<head>\n",
    "    <meta charset=\"UTF-8\">\n",
    "    <meta name=\"viewport\" content=\"width=device-width, initial-scale=1.0\">\n",
    "    <title>Welcome to My GitHub Page</title>\n",
    "    <style>\n",
    "        body {\n",
    "            font-family: Arial, sans-serif;\n",
    "            text-align: center;\n",
    "            margin: 0;\n",
    "            padding: 0;\n",
    "            background-color: #f4f4f4;\n",
    "        }\n",
    "        header {\n",
    "            background: #333;\n",
    "            color: #fff;\n",
    "            padding: 1em 0;\n",
    "        }\n",
    "        h1 {\n",
    "            margin: 0;\n",
    "        }\n",
    "        p {\n",
    "            font-size: 1.2em;\n",
    "        }\n",
    "    </style>\n",
    "</head>\n",
    "<body>\n",
    "    <header>\n",
    "        <h1>Welcome to My GitHub Page</h1>\n",
    "    </header>\n",
    "    <p>This is the front page of my personal site hosted with GitHub Pages!</p>\n",
    "    <footer>\n",
    "        <p>© 2024 Your Name</p>\n",
    "    </footer>\n",
    "</body>\n",
    "</html>\n",
    "\"\"\"\n",
    "\n",
    "# Save HTML to a file\n",
    "with open(\"index.html\", \"w\") as file:\n",
    "    file.write(html_content)\n",
    "print(\"HTML file created: index.html\")\n"
   ]
  }
 ],
 "metadata": {
  "kernelspec": {
   "display_name": "Python 3 (ipykernel)",
   "language": "python",
   "name": "python3"
  },
  "language_info": {
   "codemirror_mode": {
    "name": "ipython",
    "version": 3
   },
   "file_extension": ".py",
   "mimetype": "text/x-python",
   "name": "python",
   "nbconvert_exporter": "python",
   "pygments_lexer": "ipython3",
   "version": "3.11.5"
  }
 },
 "nbformat": 4,
 "nbformat_minor": 5
}
